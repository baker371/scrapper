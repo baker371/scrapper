{
 "cells": [
  {
   "cell_type": "markdown",
   "id": "94b273ef-4c97-45b4-aca1-c1f66280d60b",
   "metadata": {},
   "source": [
    "# Data Science Tools and Ecosystem"
   ]
  },
  {
   "cell_type": "markdown",
   "id": "20f636b9-0823-4320-9a81-4780fc823c89",
   "metadata": {},
   "source": [
    "In this notebook, Data Science Tools and Ecosystem are summarized."
   ]
  },
  {
   "cell_type": "markdown",
   "id": "9624eb51-7a77-4d7d-908a-760e912dfa1a",
   "metadata": {},
   "source": [
    "Some of the popular languages that Data Scientists use are:\n",
    "1. Python\n",
    "2. R\n",
    "3. Julia\n",
    "4. Scala"
   ]
  },
  {
   "cell_type": "markdown",
   "id": "3a6bc792-3aa8-42fb-b6f3-ae8d609ecaa9",
   "metadata": {},
   "source": [
    "Some of the commonly used libraries used by Data Scientists include:\n",
    "1. **NumPy** \n",
    "2. **Pandas** \n",
    "3. **Matplotlib** \n",
    "4. **Scikit-learn** "
   ]
  },
  {
   "cell_type": "markdown",
   "id": "d6fccfc5-00fc-4ba5-9b81-ce5115086480",
   "metadata": {},
   "source": [
    "| Data Science Tools            |\n",
    "|------------------------------|\n",
    "| Jupyter Notebook             |\n",
    "| RStudio                      |\n",
    "| Visual Studio Code (VS Code) |\n"
   ]
  },
  {
   "cell_type": "markdown",
   "id": "5bf15bb8-8798-4e08-9509-18eef94e60dc",
   "metadata": {},
   "source": [
    "### Below are a few examples of evaluating arithmetic expressions in Python\n",
    "\n",
    "You can use Python to perform basic arithmetic operations like addition, subtraction, multiplication, and division. Here are a few examples:\n",
    "\n",
    "- `3 + 5` results in `8`\n",
    "- `10 - 2` results in `8`\n",
    "- `4 * 2` results in `8`\n",
    "- `16 / 2` results in `8.0`\n"
   ]
  },
  {
   "cell_type": "code",
   "execution_count": 3,
   "id": "e910f7d7-b9ed-4271-a2e7-ab3a1cdb5eaa",
   "metadata": {},
   "outputs": [
    {
     "data": {
      "text/plain": [
       "17"
      ]
     },
     "execution_count": 3,
     "metadata": {},
     "output_type": "execute_result"
    }
   ],
   "source": [
    "# This is a simple arithmetic expression to multiply then add integers\n",
    "\n",
    "(3 * 4) + 5"
   ]
  },
  {
   "cell_type": "code",
   "execution_count": 4,
   "id": "0a37f555-4b2f-4f61-96a7-ab3bf04a6f2f",
   "metadata": {},
   "outputs": [
    {
     "data": {
      "text/plain": [
       "3.3333333333333335"
      ]
     },
     "execution_count": 4,
     "metadata": {},
     "output_type": "execute_result"
    }
   ],
   "source": [
    "# This will convert 200 minutes to hours by dividing by 60\n",
    "200 / 60"
   ]
  },
  {
   "cell_type": "markdown",
   "id": "93f3c74f-7a41-4470-b048-2379e3291994",
   "metadata": {},
   "source": [
    "**Objectives:**\n",
    "\n",
    "- List popular languages for Data Science  \n",
    "- Write and execute basic Python expressions  \n",
    "- Use comments to explain code  \n",
    "- Convert units using simple arithmetic operations  \n",
    "- Understand how code cells and markdown cells work in a notebook  \n"
   ]
  },
  {
   "cell_type": "markdown",
   "id": "82116b89-5b42-43a6-bb5b-97d77e209353",
   "metadata": {},
   "source": [
    "## Author  \n",
    "Baker"
   ]
  }
 ],
 "metadata": {
  "kernelspec": {
   "display_name": "Python 3 (ipykernel)",
   "language": "python",
   "name": "python3"
  },
  "language_info": {
   "codemirror_mode": {
    "name": "ipython",
    "version": 3
   },
   "file_extension": ".py",
   "mimetype": "text/x-python",
   "name": "python",
   "nbconvert_exporter": "python",
   "pygments_lexer": "ipython3",
   "version": "3.12.8"
  }
 },
 "nbformat": 4,
 "nbformat_minor": 5
}
